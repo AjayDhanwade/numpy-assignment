{
 "cells": [
  {
   "cell_type": "code",
   "execution_count": 11,
   "id": "fe14c52d",
   "metadata": {},
   "outputs": [],
   "source": [
    "import numpy as np"
   ]
  },
  {
   "cell_type": "code",
   "execution_count": 12,
   "id": "e2fa8716",
   "metadata": {},
   "outputs": [
    {
     "name": "stdout",
     "output_type": "stream",
     "text": [
      "[0. 0. 0. 0. 1. 0. 0. 0. 0. 0.]\n",
      "\n",
      "size 10\n"
     ]
    }
   ],
   "source": [
    "#1. Create a null vector of size 10 but the fifth value which is 1.\n",
    "ar=np.zeros(10)\n",
    "ar[4]=1\n",
    "print(ar)\n",
    "\n",
    "size=ar.size\n",
    "print(\"\\nsize\",size)"
   ]
  },
  {
   "cell_type": "code",
   "execution_count": 13,
   "id": "a526a19a",
   "metadata": {},
   "outputs": [
    {
     "data": {
      "text/plain": [
       "array([10, 11, 12, 13, 14, 15, 16, 17, 18, 19, 20, 21, 22, 23, 24, 25, 26,\n",
       "       27, 28, 29, 30, 31, 32, 33, 34, 35, 36, 37, 38, 39, 40, 41, 42, 43,\n",
       "       44, 45, 46, 47, 48, 49])"
      ]
     },
     "execution_count": 13,
     "metadata": {},
     "output_type": "execute_result"
    }
   ],
   "source": [
    "#2. Create a vector with values ranging from 10 to 49.\n",
    "ar=np.arange(10,50)\n",
    "ar"
   ]
  },
  {
   "cell_type": "code",
   "execution_count": 14,
   "id": "0fd73a95",
   "metadata": {},
   "outputs": [
    {
     "data": {
      "text/plain": [
       "array([[0, 1, 2],\n",
       "       [3, 4, 5],\n",
       "       [6, 7, 8]])"
      ]
     },
     "execution_count": 14,
     "metadata": {},
     "output_type": "execute_result"
    }
   ],
   "source": [
    "#3. Create a 3x3 matrix with values ranging from 0 to 8\n",
    "ar=np.arange(0,9).reshape(3,3)\n",
    "ar"
   ]
  },
  {
   "cell_type": "code",
   "execution_count": 15,
   "id": "5c06295c",
   "metadata": {},
   "outputs": [
    {
     "name": "stdout",
     "output_type": "stream",
     "text": [
      "Original array:\n",
      "[1 2 0 0 4 0]\n",
      "\n",
      "Indices of null elements:\n",
      "(array([2, 3, 5], dtype=int64),)\n"
     ]
    }
   ],
   "source": [
    "#4. Find indices of non-zero elements from [1,2,0,0,4,0]\n",
    "ar = np.array([1,2,0,0,4,0])\n",
    "\n",
    "print(\"Original array:\")\n",
    "print(ar)\n",
    "\n",
    "print(\"\\nIndices of null elements:\")\n",
    "res = np.nonzero(ar == 0)\n",
    "print(res)"
   ]
  },
  {
   "cell_type": "code",
   "execution_count": 16,
   "id": "4d01f439",
   "metadata": {},
   "outputs": [
    {
     "name": "stdout",
     "output_type": "stream",
     "text": [
      "[[-1.29554732e-01 -5.35565909e-01  7.42170809e-01 -1.28092942e+00\n",
      "   1.24096244e+00  1.83868044e-02 -5.66489333e-01 -8.27534117e-01\n",
      "  -1.23216980e+00  2.37859824e-01]\n",
      " [-1.38592719e-01  1.58305986e+00 -4.54938630e-01 -4.97318179e-01\n",
      "   1.13044737e+00 -9.96845275e-01 -8.00939455e-01 -6.01144269e-01\n",
      "  -1.32992270e+00  7.37530990e-01]\n",
      " [ 1.45106218e-02  1.16563765e+00  6.55476878e-01 -6.27390787e-01\n",
      "  -6.24851635e-01  1.13285736e+00 -8.48037461e-02 -1.76165467e+00\n",
      "  -1.35253603e+00 -5.04685160e-01]\n",
      " [-2.83348882e-01  4.41537955e-02 -3.74280541e-01  4.66049388e-01\n",
      "   8.33951774e-01  5.83711473e-01  4.38183298e-01  1.83731897e-01\n",
      "  -4.47696893e-01 -1.31317416e+00]\n",
      " [ 1.15076962e+00 -1.15347883e+00 -1.02023499e+00  6.93428541e-02\n",
      "   2.74464689e-01 -2.69600205e-01 -1.51698306e+00 -2.80612075e-01\n",
      "  -3.43181813e-01  6.15236684e-01]\n",
      " [-6.23355312e-02  1.82487478e-01  1.24523581e-03 -1.26480149e+00\n",
      "   4.43394217e-01  4.04496225e-01 -5.25211342e-01 -5.03246899e-01\n",
      "  -4.62997285e-01  7.79110905e-01]\n",
      " [ 8.24553775e-01  7.82329803e-01 -9.85979159e-01  1.54766942e+00\n",
      "   3.17936362e-01  1.81400029e+00 -8.31885930e-01  3.97764537e-01\n",
      "  -7.39214149e-01 -5.10866324e-01]\n",
      " [-9.34801595e-01  8.00755253e-01 -6.76469455e-01  5.01874537e-01\n",
      "  -1.42491701e+00  4.63616557e-01 -4.86382121e-01 -7.71554582e-02\n",
      "   2.36624017e+00  6.76967451e-02]\n",
      " [-1.39475045e+00  5.58622317e-01  1.74849601e+00 -5.81994791e-01\n",
      "  -5.78829587e-01  7.99545846e-01 -7.94379508e-01 -3.44037463e-01\n",
      "   9.98959741e-01 -1.57767636e-01]\n",
      " [-1.07670968e+00  2.10900802e+00 -6.23249845e-01 -1.95140782e-01\n",
      "   1.37655583e+00 -6.47336663e-01 -9.57682292e-01 -3.31654767e-01\n",
      "   5.17858143e-02 -5.81724789e-01]]\n",
      "\n",
      "The minimum value is -1.761654672362429\n",
      "\n",
      "The maximum value is 2.3662401736083916\n"
     ]
    }
   ],
   "source": [
    "#5. Create a 10x10 array with random values and find the minimum and maximum values.\n",
    "ar=np.random.randn(10,10)\n",
    "print(ar)\n",
    "\n",
    "minimum =ar.min()\n",
    "\n",
    "print(\"\\nThe minimum value is\", minimum)\n",
    "\n",
    "maximum =ar.max()\n",
    "\n",
    "print(\"\\nThe maximum value is\", maximum)"
   ]
  },
  {
   "cell_type": "code",
   "execution_count": 17,
   "id": "5d7d87c0",
   "metadata": {},
   "outputs": [
    {
     "name": "stdout",
     "output_type": "stream",
     "text": [
      "[0.78694156 0.26076275 0.85692168 0.15088104 0.27175801 0.00293309\n",
      " 0.81453725 0.54192718 0.90506239 0.18778305 0.09934682 0.79214908\n",
      " 0.44945703 0.15923981 0.2532678  0.90680752 0.08812986 0.52928097\n",
      " 0.43564066 0.85396109 0.19977892 0.63728816 0.32743084 0.15920101\n",
      " 0.5739936  0.18363198 0.02321802 0.86665657 0.00594493 0.51881485]\n",
      "\n",
      "The mean value is 0.4280915847537557\n"
     ]
    }
   ],
   "source": [
    "#6. Create a random vector of size 30 and find the mean value.\n",
    "ar=np.random.random(30)\n",
    "print(ar)\n",
    "\n",
    "ne=ar.mean()\n",
    "print(\"\\nThe mean value is\", ne)"
   ]
  }
 ],
 "metadata": {
  "kernelspec": {
   "display_name": "Python 3 (ipykernel)",
   "language": "python",
   "name": "python3"
  },
  "language_info": {
   "codemirror_mode": {
    "name": "ipython",
    "version": 3
   },
   "file_extension": ".py",
   "mimetype": "text/x-python",
   "name": "python",
   "nbconvert_exporter": "python",
   "pygments_lexer": "ipython3",
   "version": "3.7.4"
  }
 },
 "nbformat": 4,
 "nbformat_minor": 5
}
